{
 "cells": [
  {
   "cell_type": "code",
   "execution_count": 30,
   "metadata": {},
   "outputs": [],
   "source": [
    "import torch\n",
    "from transformers import GPT2LMHeadModel, GPT2Tokenizer, TextDataset, DataCollatorForLanguageModeling\n",
    "from transformers import Trainer, TrainingArguments\n",
    "import os\n",
    "import numpy as np\n",
    "from fastai.text.all import *"
   ]
  },
  {
   "cell_type": "code",
   "execution_count": 37,
   "metadata": {},
   "outputs": [],
   "source": [
    "# Load pre-trained model and tokenizer from Hugging Face\n",
    "model_name = \"gpt2\"\n",
    "tokenizer = GPT2Tokenizer.from_pretrained(model_name)\n",
    "model = GPT2LMHeadModel.from_pretrained(model_name)"
   ]
  },
  {
   "cell_type": "code",
   "execution_count": 5,
   "metadata": {},
   "outputs": [
    {
     "data": {
      "text/plain": [
       "GPT2LMHeadModel(\n",
       "  (transformer): GPT2Model(\n",
       "    (wte): Embedding(50257, 768)\n",
       "    (wpe): Embedding(1024, 768)\n",
       "    (drop): Dropout(p=0.1, inplace=False)\n",
       "    (h): ModuleList(\n",
       "      (0-11): 12 x GPT2Block(\n",
       "        (ln_1): LayerNorm((768,), eps=1e-05, elementwise_affine=True)\n",
       "        (attn): GPT2Attention(\n",
       "          (c_attn): Conv1D()\n",
       "          (c_proj): Conv1D()\n",
       "          (attn_dropout): Dropout(p=0.1, inplace=False)\n",
       "          (resid_dropout): Dropout(p=0.1, inplace=False)\n",
       "        )\n",
       "        (ln_2): LayerNorm((768,), eps=1e-05, elementwise_affine=True)\n",
       "        (mlp): GPT2MLP(\n",
       "          (c_fc): Conv1D()\n",
       "          (c_proj): Conv1D()\n",
       "          (act): NewGELUActivation()\n",
       "          (dropout): Dropout(p=0.1, inplace=False)\n",
       "        )\n",
       "      )\n",
       "    )\n",
       "    (ln_f): LayerNorm((768,), eps=1e-05, elementwise_affine=True)\n",
       "  )\n",
       "  (lm_head): Linear(in_features=768, out_features=50257, bias=False)\n",
       ")"
      ]
     },
     "execution_count": 5,
     "metadata": {},
     "output_type": "execute_result"
    }
   ],
   "source": [
    "# Ensure model uses the GPU if available\n",
    "device = torch.device(\"cuda\" if torch.cuda.is_available() else \"cpu\")\n",
    "model.to(device)"
   ]
  },
  {
   "cell_type": "code",
   "execution_count": 12,
   "metadata": {},
   "outputs": [
    {
     "name": "stdout",
     "output_type": "stream",
     "text": [
      "Processing file: /home/salla/Downloads/text-gen/poems/forms/haiku/HaikuPoemsAHawkHaikuHaikuHaikuHaikuHaikuPoembyUdiahwitnesstoYah.txt\n",
      "Processing file: /home/salla/Downloads/text-gen/poems/forms/haiku/HaikuPoemsHaikuTheJoyToBeAnimalPoembyjohntiongchunghoo.txt\n",
      "Processing file: /home/salla/Downloads/text-gen/poems/forms/haiku/HaikuPoemshaikusexyHaikuPoembychrisbowenakatowit.txt\n",
      "Processing file: /home/salla/Downloads/text-gen/poems/forms/haiku/HaikuPoemsHaikuMichaelJacksonsTrialPoembyjohntiongchunghoo.txt\n",
      "Processing file: /home/salla/Downloads/text-gen/poems/forms/haiku/HaikuPoemsHaikuACaterpillarPoembyjohntiongchunghoo.txt\n",
      "Processing file: /home/salla/Downloads/text-gen/poems/forms/haiku/HaikuPoemsHaikuBirdsSingingPoembyJackKerouac.txt\n",
      "Processing file: /home/salla/Downloads/text-gen/poems/forms/haiku/HaikuPoemsHaikuTheMorningGloryAlsoPoembyjohntiongchunghoo.txt\n",
      "Processing file: /home/salla/Downloads/text-gen/poems/forms/haiku/HaikuPoemsHaikuSeawavesPaintersBrushPoembyjohntiongchunghoo.txt\n",
      "Processing file: /home/salla/Downloads/text-gen/poems/forms/haiku/HaikuPoemsHaikuTheArtistsWavesOfColoursPoembyjohntiongchunghoo.txt\n",
      "Processing file: /home/salla/Downloads/text-gen/poems/forms/haiku/HaikuPoemsHaikuHaikuPoembyMAsimNehal.txt\n",
      "Processing file: /home/salla/Downloads/text-gen/poems/forms/haiku/HaikuPoemsHaiku09ToSayILoveYouPoembyAndrewJones.txt\n",
      "Processing file: /home/salla/Downloads/text-gen/poems/forms/haiku/HaikuPoemsHaikuHaikuLifePoembyMAsimNehal.txt\n",
      "Processing file: /home/salla/Downloads/text-gen/poems/forms/haiku/HaikuPoemsPhHaikuFunHaikuParodiesHaikuPoembyBrianJohnston.txt\n",
      "Processing file: /home/salla/Downloads/text-gen/poems/forms/haiku/HaikuPoemsHaikuCooHaikuCooHaikuPoembyEdwinBaldwin.txt\n",
      "Processing file: /home/salla/Downloads/text-gen/poems/forms/haiku/HaikuPoemsHaiku03PoembyMasaokiShiki.txt\n",
      "Processing file: /home/salla/Downloads/text-gen/poems/forms/haiku/HaikuPoemsHaikuForStatisticalAccuracyAQuadSetHaikuPoembyFrankJamesRyanJr.txt\n",
      "Processing file: /home/salla/Downloads/text-gen/poems/forms/haiku/HaikuPoemsHaikuHaikuPoembyAllenSteble.txt\n",
      "Processing file: /home/salla/Downloads/text-gen/poems/forms/haiku/HaikuPoemsJapaneseHaikuPoembyKennethDPatton.txt\n",
      "Processing file: /home/salla/Downloads/text-gen/poems/forms/haiku/HaikuPoemsHaikuAmberPoembyjohntiongchunghoo.txt\n",
      "Processing file: /home/salla/Downloads/text-gen/poems/forms/haiku/HaikuPoemsHaikuInSilencePoembyjohntiongchunghoo.txt\n",
      "Processing file: /home/salla/Downloads/text-gen/poems/forms/haiku/HaikuPoemsHaikuYingYangPoembyjohntiongchunghoo.txt\n",
      "Processing file: /home/salla/Downloads/text-gen/poems/forms/haiku/HaikuPoemsHaikuAmbulancePoembyRichardBrautigan.txt\n",
      "Processing file: /home/salla/Downloads/text-gen/poems/forms/haiku/HaikuPoemsHaikuOnHaiku575PoembyValsaGeorge.txt\n",
      "Processing file: /home/salla/Downloads/text-gen/poems/forms/haiku/HaikuPoemsDearJohnHaikuPoembyMichaelShepherd.txt\n",
      "Processing file: /home/salla/Downloads/text-gen/poems/forms/haiku/HaikuPoemsDistressedHaikuPoembyDonaldHall.txt\n",
      "Processing file: /home/salla/Downloads/text-gen/poems/forms/haiku/HaikuPoemsSimpleHaikuMyopicMathSkillsThreeWordsPoembyChuckAudette.txt\n",
      "Processing file: /home/salla/Downloads/text-gen/poems/forms/haiku/HaikuPoemsHaiku1kaikuHaikuPoembySubrotoChatterjee.txt\n",
      "Processing file: /home/salla/Downloads/text-gen/poems/forms/haiku/HaikuPoemsHaikuForMfPoembyMichaelShepherd.txt\n",
      "Processing file: /home/salla/Downloads/text-gen/poems/forms/haiku/HaikuPoemsISPHaikuVersePoembyBerniceRush.txt\n",
      "Processing file: /home/salla/Downloads/text-gen/poems/forms/haiku/HaikuPoemsHaikuTheCoconutTreePoembyjohntiongchunghoo.txt\n",
      "Processing file: /home/salla/Downloads/text-gen/poems/forms/haiku/HaikuPoemsFourHaikuPoembyMatsuoBasho.txt\n",
      "Processing file: /home/salla/Downloads/text-gen/poems/forms/haiku/HaikuPoems09HaikuCrissCrossingShadowsPoembyjohntiongchunghoo.txt\n",
      "Processing file: /home/salla/Downloads/text-gen/poems/forms/haiku/HaikuPoemsTheTreeOfLifeHaikuHaikuHaikuPoembyUdiahwitnesstoYah.txt\n",
      "Processing file: /home/salla/Downloads/text-gen/poems/forms/haiku/HaikuPoemsHaikuHaikuPoembyKatzHaus.txt\n",
      "Processing file: /home/salla/Downloads/text-gen/poems/forms/haiku/HaikuPoemsHaikuTheLowYellowPoembyJackKerouac.txt\n",
      "Processing file: /home/salla/Downloads/text-gen/poems/forms/haiku/HaikuPoemsABlueHaikuAmericanHaikuPoembyDavidWhalen.txt\n",
      "Processing file: /home/salla/Downloads/text-gen/poems/forms/haiku/HaikuPoemsHaiku13PoembyMasaokiShiki.txt\n",
      "Processing file: /home/salla/Downloads/text-gen/poems/forms/haiku/HaikuPoemsHaikuFairGamePoembyjohntiongchunghoo.txt\n",
      "Processing file: /home/salla/Downloads/text-gen/poems/forms/haiku/HaikuPoemsHaikuAutumnHaikuPoembyPeterSQuinn.txt\n",
      "Processing file: /home/salla/Downloads/text-gen/poems/forms/haiku/HaikuPoemsHailToTheMasterFirstLineHaikuPoembyHerbertNehrlich.txt\n",
      "Processing file: /home/salla/Downloads/text-gen/poems/forms/haiku/HaikuPoemsCollectionOfSixHaikuPoembyMatsuoBasho.txt\n",
      "Processing file: /home/salla/Downloads/text-gen/poems/forms/haiku/HaikuPoemsHaikuFromASeasonForEveryoneHaikuTankaPoembyFabrizioFrosini.txt\n",
      "Processing file: /home/salla/Downloads/text-gen/poems/forms/haiku/HaikuPoemsHaikuFullMoonPoembyjohntiongchunghoo.txt\n",
      "Processing file: /home/salla/Downloads/text-gen/poems/forms/haiku/HaikuPoemsHaiku05PoembyMasaokiShiki.txt\n",
      "Processing file: /home/salla/Downloads/text-gen/poems/forms/haiku/HaikuPoemsFourHaikuInspiredByMatsuoBashoPoembyjohntiongchunghoo.txt\n",
      "Processing file: /home/salla/Downloads/text-gen/poems/forms/haiku/HaikuPoemsHaikuFirstDayAtSchoolPoembyjohntiongchunghoo.txt\n",
      "Processing file: /home/salla/Downloads/text-gen/poems/forms/haiku/HaikuPoemsYouHaikuPoembyScarboroughGypsy.txt\n",
      "Processing file: /home/salla/Downloads/text-gen/poems/forms/haiku/HaikuPoemsHaikuZenGardenPoembyjohntiongchunghoo.txt\n",
      "Processing file: /home/salla/Downloads/text-gen/poems/forms/haiku/HaikuPoemsHaikuForPoetsPoembyMichaelShepherd.txt\n",
      "Processing file: /home/salla/Downloads/text-gen/poems/forms/haiku/HaikuPoemsPhHaikuHaikuPerfectionPoembyBrianJohnston.txt\n",
      "Processing file: /home/salla/Downloads/text-gen/poems/forms/haiku/HaikuPoemsHaiku01PoembyMasaokiShiki.txt\n",
      "Processing file: /home/salla/Downloads/text-gen/poems/forms/haiku/HaikuPoemsHaikuTheTastePoembyJackKerouac.txt\n",
      "Processing file: /home/salla/Downloads/text-gen/poems/forms/haiku/HaikuPoemsHaikuTheMagpieSingsPoembyjohntiongchunghoo.txt\n",
      "Processing file: /home/salla/Downloads/text-gen/poems/forms/haiku/HaikuPoemsDawnPatrolHaikuPoembyScarboroughGypsy.txt\n",
      "Processing file: /home/salla/Downloads/text-gen/poems/forms/haiku/HaikuPoems09HaikuPeaceHaikuPoembyjohntiongchunghoo.txt\n",
      "Processing file: /home/salla/Downloads/text-gen/poems/forms/haiku/HaikuPoemsSnowAHaikuPoembyMichaelShepherd.txt\n",
      "Processing file: /home/salla/Downloads/text-gen/poems/forms/haiku/HaikuPoemsHaiku04PoembyMasaokiShiki.txt\n",
      "Processing file: /home/salla/Downloads/text-gen/poems/forms/haiku/HaikuPoemsHaikuMemoryLossHaikuPoembyChristinaChin.txt\n",
      "Processing file: /home/salla/Downloads/text-gen/poems/forms/haiku/HaikuPoemsHaiku5AndHaiku5RevisedMorningPoembySavitaTyagi.txt\n",
      "Processing file: /home/salla/Downloads/text-gen/poems/forms/haiku/HaikuPoemsHaiku10PoembyMasaokiShiki.txt\n",
      "Processing file: /home/salla/Downloads/text-gen/poems/forms/haiku/HaikuPoemsEclipseAHaikuSequencePoembyRichardGeorge.txt\n",
      "Processing file: /home/salla/Downloads/text-gen/poems/forms/haiku/HaikuPoemsHaikuForJoycePoembyMichaelShepherd.txt\n",
      "Processing file: /home/salla/Downloads/text-gen/poems/forms/haiku/HaikuPoemsHaikuSandPoembyjohntiongchunghoo.txt\n",
      "Processing file: /home/salla/Downloads/text-gen/poems/forms/haiku/HaikuPoemsHaiku07PoembyMasaokiShiki.txt\n",
      "Processing file: /home/salla/Downloads/text-gen/poems/forms/haiku/HaikuPoemsHaikuPoemFallPoembyKyleJCarruthers.txt\n",
      "Processing file: /home/salla/Downloads/text-gen/poems/forms/haiku/HaikuPoemsHaikuBottleCollectorPoembyjohntiongchunghoo.txt\n",
      "Processing file: /home/salla/Downloads/text-gen/poems/forms/haiku/HaikuPoemsFiveHaikuPoembyPaulEluard.txt\n",
      "Processing file: /home/salla/Downloads/text-gen/poems/forms/haiku/HaikuPoemsCountryEssenceHaikuPoembySeánOMuiríosa.txt\n",
      "Processing file: /home/salla/Downloads/text-gen/poems/forms/haiku/HaikuPoemsHaikuGatheringWaterPoembyjohntiongchunghoo.txt\n",
      "Processing file: /home/salla/Downloads/text-gen/poems/forms/haiku/HaikuPoemsHaikuNeverPublishedPoembyAllenGinsberg.txt\n",
      "Processing file: /home/salla/Downloads/text-gen/poems/forms/haiku/HaikuPoemsHaikuPracticePoembyHerbertNehrlich.txt\n",
      "Processing file: /home/salla/Downloads/text-gen/poems/forms/haiku/HaikuPoemsHaikuNeighbourBeatsUsAgainPoembyjohntiongchunghoo.txt\n",
      "Processing file: /home/salla/Downloads/text-gen/poems/forms/haiku/HaikuPoemsHaikuAutumnDancePoembyjohntiongchunghoo.txt\n",
      "Processing file: /home/salla/Downloads/text-gen/poems/forms/haiku/HaikuPoemsHaikuFloatingLeafPoembyjohntiongchunghoo.txt\n",
      "Processing file: /home/salla/Downloads/text-gen/poems/forms/haiku/HaikuPoemsShakespeareTheHaikuPoetSonnet73MadeHaikuPoembyjohntiongchunghoo.txt\n",
      "Processing file: /home/salla/Downloads/text-gen/poems/forms/haiku/HaikuPoemsFootballHaikuHaikuHaikuHaikuHaikuPoembyUdiahwitnesstoYah.txt\n",
      "Processing file: /home/salla/Downloads/text-gen/poems/forms/haiku/HaikuPoemsHaiku06PoembyMasaokiShiki.txt\n",
      "Processing file: /home/salla/Downloads/text-gen/poems/forms/haiku/HaikuPoemsHaikuDontImitateMePoembyjohntiongchunghoo.txt\n",
      "Processing file: /home/salla/Downloads/text-gen/poems/forms/haiku/HaikuPoemsHaikuOnHaikuPoembyEdgardoTugade.txt\n",
      "Processing file: /home/salla/Downloads/text-gen/poems/forms/haiku/HaikuPoemsHaikuIshForCmPoembyMichaelShepherd.txt\n",
      "Processing file: /home/salla/Downloads/text-gen/poems/forms/haiku/HaikuPoemsHaiku02PoembyMasaokiShiki.txt\n",
      "Processing file: /home/salla/Downloads/text-gen/poems/forms/haiku/HaikuPoemsHaiku11PoembyMasaokiShiki.txt\n",
      "Processing file: /home/salla/Downloads/text-gen/poems/forms/haiku/HaikuPoemsNorthernHaikuPoembyMichaelShepherd.txt\n",
      "Processing file: /home/salla/Downloads/text-gen/poems/forms/haiku/HaikuPoemsBuriedByHaikuPoembyMaryNagy.txt\n",
      "Processing file: /home/salla/Downloads/text-gen/poems/forms/haiku/HaikuPoemsHaiku105WhisperingLoveInHaikuStanzaPoembyCarolynBrunelle.txt\n",
      "Processing file: /home/salla/Downloads/text-gen/poems/forms/haiku/HaikuPoemshaikuiNeedToHaikuExplainMyselfPoembychrisbowenakatowit.txt\n",
      "Processing file: /home/salla/Downloads/text-gen/poems/forms/haiku/HaikuPoemsHaikuFirstDayOfSpringPoembyjohntiongchunghoo.txt\n",
      "Processing file: /home/salla/Downloads/text-gen/poems/forms/haiku/HaikuPoemsHaikuMountainsHaikuPoembyJyotiSunitChaudhary.txt\n",
      "Processing file: /home/salla/Downloads/text-gen/poems/forms/haiku/HaikuPoemsHaikuWinterHaikuPoembyPeterSQuinn.txt\n",
      "Processing file: /home/salla/Downloads/text-gen/poems/forms/haiku/HaikuPoemsYesIsItHaikuPoembyHerbertNehrlich.txt\n",
      "Processing file: /home/salla/Downloads/text-gen/poems/forms/haiku/HaikuPoemsHaikuRunningForTheirLivesPoembyjohntiongchunghoo.txt\n",
      "Processing file: /home/salla/Downloads/text-gen/poems/forms/haiku/HaikuPoemsTheRainbowHaikuHaikuHaikuHaikuHaikuHaikuPoembyUdiahwitnesstoYah.txt\n",
      "Processing file: /home/salla/Downloads/text-gen/poems/forms/haiku/HaikuPoemsHaikuUnceasedDaysPoembyjohntiongchunghoo.txt\n",
      "Processing file: /home/salla/Downloads/text-gen/poems/forms/haiku/HaikuPoemsHaiku08PoembyMasaokiShiki.txt\n",
      "Processing file: /home/salla/Downloads/text-gen/poems/forms/haiku/HaikuPoemsHaikuOpportunitiesPoembyjohntiongchunghoo.txt\n",
      "Processing file: /home/salla/Downloads/text-gen/poems/forms/haiku/HaikuPoemsHaiku12PoembyMasaokiShiki.txt\n",
      "Processing file: /home/salla/Downloads/text-gen/poems/forms/haiku/HaikuPoemsSimpleHaikuEarthDayThreeWordsPoembyChuckAudette.txt\n",
      "Processing file: /home/salla/Downloads/text-gen/poems/forms/haiku/HaikuPoemsHaikuFromMomentsOfLightnessHaikuTankaPoembyFabrizioFrosini.txt\n",
      "Processing file: /home/salla/Downloads/text-gen/poems/forms/haiku/HaikuPoemsHaikuToAPoetPoembyMichaelShepherd.txt\n",
      "Collected haiku files: ['/home/salla/Downloads/text-gen/poems/forms/haiku/HaikuPoemsAHawkHaikuHaikuHaikuHaikuHaikuPoembyUdiahwitnesstoYah.txt', '/home/salla/Downloads/text-gen/poems/forms/haiku/HaikuPoemsHaikuTheJoyToBeAnimalPoembyjohntiongchunghoo.txt', '/home/salla/Downloads/text-gen/poems/forms/haiku/HaikuPoemshaikusexyHaikuPoembychrisbowenakatowit.txt', '/home/salla/Downloads/text-gen/poems/forms/haiku/HaikuPoemsHaikuMichaelJacksonsTrialPoembyjohntiongchunghoo.txt', '/home/salla/Downloads/text-gen/poems/forms/haiku/HaikuPoemsHaikuACaterpillarPoembyjohntiongchunghoo.txt', '/home/salla/Downloads/text-gen/poems/forms/haiku/HaikuPoemsHaikuBirdsSingingPoembyJackKerouac.txt', '/home/salla/Downloads/text-gen/poems/forms/haiku/HaikuPoemsHaikuTheMorningGloryAlsoPoembyjohntiongchunghoo.txt', '/home/salla/Downloads/text-gen/poems/forms/haiku/HaikuPoemsHaikuSeawavesPaintersBrushPoembyjohntiongchunghoo.txt', '/home/salla/Downloads/text-gen/poems/forms/haiku/HaikuPoemsHaikuTheArtistsWavesOfColoursPoembyjohntiongchunghoo.txt', '/home/salla/Downloads/text-gen/poems/forms/haiku/HaikuPoemsHaikuHaikuPoembyMAsimNehal.txt', '/home/salla/Downloads/text-gen/poems/forms/haiku/HaikuPoemsHaiku09ToSayILoveYouPoembyAndrewJones.txt', '/home/salla/Downloads/text-gen/poems/forms/haiku/HaikuPoemsHaikuHaikuLifePoembyMAsimNehal.txt', '/home/salla/Downloads/text-gen/poems/forms/haiku/HaikuPoemsPhHaikuFunHaikuParodiesHaikuPoembyBrianJohnston.txt', '/home/salla/Downloads/text-gen/poems/forms/haiku/HaikuPoemsHaikuCooHaikuCooHaikuPoembyEdwinBaldwin.txt', '/home/salla/Downloads/text-gen/poems/forms/haiku/HaikuPoemsHaiku03PoembyMasaokiShiki.txt', '/home/salla/Downloads/text-gen/poems/forms/haiku/HaikuPoemsHaikuForStatisticalAccuracyAQuadSetHaikuPoembyFrankJamesRyanJr.txt', '/home/salla/Downloads/text-gen/poems/forms/haiku/HaikuPoemsHaikuHaikuPoembyAllenSteble.txt', '/home/salla/Downloads/text-gen/poems/forms/haiku/HaikuPoemsJapaneseHaikuPoembyKennethDPatton.txt', '/home/salla/Downloads/text-gen/poems/forms/haiku/HaikuPoemsHaikuAmberPoembyjohntiongchunghoo.txt', '/home/salla/Downloads/text-gen/poems/forms/haiku/HaikuPoemsHaikuInSilencePoembyjohntiongchunghoo.txt', '/home/salla/Downloads/text-gen/poems/forms/haiku/HaikuPoemsHaikuYingYangPoembyjohntiongchunghoo.txt', '/home/salla/Downloads/text-gen/poems/forms/haiku/HaikuPoemsHaikuAmbulancePoembyRichardBrautigan.txt', '/home/salla/Downloads/text-gen/poems/forms/haiku/HaikuPoemsHaikuOnHaiku575PoembyValsaGeorge.txt', '/home/salla/Downloads/text-gen/poems/forms/haiku/HaikuPoemsDearJohnHaikuPoembyMichaelShepherd.txt', '/home/salla/Downloads/text-gen/poems/forms/haiku/HaikuPoemsDistressedHaikuPoembyDonaldHall.txt', '/home/salla/Downloads/text-gen/poems/forms/haiku/HaikuPoemsSimpleHaikuMyopicMathSkillsThreeWordsPoembyChuckAudette.txt', '/home/salla/Downloads/text-gen/poems/forms/haiku/HaikuPoemsHaiku1kaikuHaikuPoembySubrotoChatterjee.txt', '/home/salla/Downloads/text-gen/poems/forms/haiku/HaikuPoemsHaikuForMfPoembyMichaelShepherd.txt', '/home/salla/Downloads/text-gen/poems/forms/haiku/HaikuPoemsISPHaikuVersePoembyBerniceRush.txt', '/home/salla/Downloads/text-gen/poems/forms/haiku/HaikuPoemsHaikuTheCoconutTreePoembyjohntiongchunghoo.txt', '/home/salla/Downloads/text-gen/poems/forms/haiku/HaikuPoemsFourHaikuPoembyMatsuoBasho.txt', '/home/salla/Downloads/text-gen/poems/forms/haiku/HaikuPoems09HaikuCrissCrossingShadowsPoembyjohntiongchunghoo.txt', '/home/salla/Downloads/text-gen/poems/forms/haiku/HaikuPoemsTheTreeOfLifeHaikuHaikuHaikuPoembyUdiahwitnesstoYah.txt', '/home/salla/Downloads/text-gen/poems/forms/haiku/HaikuPoemsHaikuHaikuPoembyKatzHaus.txt', '/home/salla/Downloads/text-gen/poems/forms/haiku/HaikuPoemsHaikuTheLowYellowPoembyJackKerouac.txt', '/home/salla/Downloads/text-gen/poems/forms/haiku/HaikuPoemsABlueHaikuAmericanHaikuPoembyDavidWhalen.txt', '/home/salla/Downloads/text-gen/poems/forms/haiku/HaikuPoemsHaiku13PoembyMasaokiShiki.txt', '/home/salla/Downloads/text-gen/poems/forms/haiku/HaikuPoemsHaikuFairGamePoembyjohntiongchunghoo.txt', '/home/salla/Downloads/text-gen/poems/forms/haiku/HaikuPoemsHaikuAutumnHaikuPoembyPeterSQuinn.txt', '/home/salla/Downloads/text-gen/poems/forms/haiku/HaikuPoemsHailToTheMasterFirstLineHaikuPoembyHerbertNehrlich.txt', '/home/salla/Downloads/text-gen/poems/forms/haiku/HaikuPoemsCollectionOfSixHaikuPoembyMatsuoBasho.txt', '/home/salla/Downloads/text-gen/poems/forms/haiku/HaikuPoemsHaikuFromASeasonForEveryoneHaikuTankaPoembyFabrizioFrosini.txt', '/home/salla/Downloads/text-gen/poems/forms/haiku/HaikuPoemsHaikuFullMoonPoembyjohntiongchunghoo.txt', '/home/salla/Downloads/text-gen/poems/forms/haiku/HaikuPoemsHaiku05PoembyMasaokiShiki.txt', '/home/salla/Downloads/text-gen/poems/forms/haiku/HaikuPoemsFourHaikuInspiredByMatsuoBashoPoembyjohntiongchunghoo.txt', '/home/salla/Downloads/text-gen/poems/forms/haiku/HaikuPoemsHaikuFirstDayAtSchoolPoembyjohntiongchunghoo.txt', '/home/salla/Downloads/text-gen/poems/forms/haiku/HaikuPoemsYouHaikuPoembyScarboroughGypsy.txt', '/home/salla/Downloads/text-gen/poems/forms/haiku/HaikuPoemsHaikuZenGardenPoembyjohntiongchunghoo.txt', '/home/salla/Downloads/text-gen/poems/forms/haiku/HaikuPoemsHaikuForPoetsPoembyMichaelShepherd.txt', '/home/salla/Downloads/text-gen/poems/forms/haiku/HaikuPoemsPhHaikuHaikuPerfectionPoembyBrianJohnston.txt', '/home/salla/Downloads/text-gen/poems/forms/haiku/HaikuPoemsHaiku01PoembyMasaokiShiki.txt', '/home/salla/Downloads/text-gen/poems/forms/haiku/HaikuPoemsHaikuTheTastePoembyJackKerouac.txt', '/home/salla/Downloads/text-gen/poems/forms/haiku/HaikuPoemsHaikuTheMagpieSingsPoembyjohntiongchunghoo.txt', '/home/salla/Downloads/text-gen/poems/forms/haiku/HaikuPoemsDawnPatrolHaikuPoembyScarboroughGypsy.txt', '/home/salla/Downloads/text-gen/poems/forms/haiku/HaikuPoems09HaikuPeaceHaikuPoembyjohntiongchunghoo.txt', '/home/salla/Downloads/text-gen/poems/forms/haiku/HaikuPoemsSnowAHaikuPoembyMichaelShepherd.txt', '/home/salla/Downloads/text-gen/poems/forms/haiku/HaikuPoemsHaiku04PoembyMasaokiShiki.txt', '/home/salla/Downloads/text-gen/poems/forms/haiku/HaikuPoemsHaikuMemoryLossHaikuPoembyChristinaChin.txt', '/home/salla/Downloads/text-gen/poems/forms/haiku/HaikuPoemsHaiku5AndHaiku5RevisedMorningPoembySavitaTyagi.txt', '/home/salla/Downloads/text-gen/poems/forms/haiku/HaikuPoemsHaiku10PoembyMasaokiShiki.txt', '/home/salla/Downloads/text-gen/poems/forms/haiku/HaikuPoemsEclipseAHaikuSequencePoembyRichardGeorge.txt', '/home/salla/Downloads/text-gen/poems/forms/haiku/HaikuPoemsHaikuForJoycePoembyMichaelShepherd.txt', '/home/salla/Downloads/text-gen/poems/forms/haiku/HaikuPoemsHaikuSandPoembyjohntiongchunghoo.txt', '/home/salla/Downloads/text-gen/poems/forms/haiku/HaikuPoemsHaiku07PoembyMasaokiShiki.txt', '/home/salla/Downloads/text-gen/poems/forms/haiku/HaikuPoemsHaikuPoemFallPoembyKyleJCarruthers.txt', '/home/salla/Downloads/text-gen/poems/forms/haiku/HaikuPoemsHaikuBottleCollectorPoembyjohntiongchunghoo.txt', '/home/salla/Downloads/text-gen/poems/forms/haiku/HaikuPoemsFiveHaikuPoembyPaulEluard.txt', '/home/salla/Downloads/text-gen/poems/forms/haiku/HaikuPoemsCountryEssenceHaikuPoembySeánOMuiríosa.txt', '/home/salla/Downloads/text-gen/poems/forms/haiku/HaikuPoemsHaikuGatheringWaterPoembyjohntiongchunghoo.txt', '/home/salla/Downloads/text-gen/poems/forms/haiku/HaikuPoemsHaikuNeverPublishedPoembyAllenGinsberg.txt', '/home/salla/Downloads/text-gen/poems/forms/haiku/HaikuPoemsHaikuPracticePoembyHerbertNehrlich.txt', '/home/salla/Downloads/text-gen/poems/forms/haiku/HaikuPoemsHaikuNeighbourBeatsUsAgainPoembyjohntiongchunghoo.txt', '/home/salla/Downloads/text-gen/poems/forms/haiku/HaikuPoemsHaikuAutumnDancePoembyjohntiongchunghoo.txt', '/home/salla/Downloads/text-gen/poems/forms/haiku/HaikuPoemsHaikuFloatingLeafPoembyjohntiongchunghoo.txt', '/home/salla/Downloads/text-gen/poems/forms/haiku/HaikuPoemsShakespeareTheHaikuPoetSonnet73MadeHaikuPoembyjohntiongchunghoo.txt', '/home/salla/Downloads/text-gen/poems/forms/haiku/HaikuPoemsFootballHaikuHaikuHaikuHaikuHaikuPoembyUdiahwitnesstoYah.txt', '/home/salla/Downloads/text-gen/poems/forms/haiku/HaikuPoemsHaiku06PoembyMasaokiShiki.txt', '/home/salla/Downloads/text-gen/poems/forms/haiku/HaikuPoemsHaikuDontImitateMePoembyjohntiongchunghoo.txt', '/home/salla/Downloads/text-gen/poems/forms/haiku/HaikuPoemsHaikuOnHaikuPoembyEdgardoTugade.txt', '/home/salla/Downloads/text-gen/poems/forms/haiku/HaikuPoemsHaikuIshForCmPoembyMichaelShepherd.txt', '/home/salla/Downloads/text-gen/poems/forms/haiku/HaikuPoemsHaiku02PoembyMasaokiShiki.txt', '/home/salla/Downloads/text-gen/poems/forms/haiku/HaikuPoemsHaiku11PoembyMasaokiShiki.txt', '/home/salla/Downloads/text-gen/poems/forms/haiku/HaikuPoemsNorthernHaikuPoembyMichaelShepherd.txt', '/home/salla/Downloads/text-gen/poems/forms/haiku/HaikuPoemsBuriedByHaikuPoembyMaryNagy.txt', '/home/salla/Downloads/text-gen/poems/forms/haiku/HaikuPoemsHaiku105WhisperingLoveInHaikuStanzaPoembyCarolynBrunelle.txt', '/home/salla/Downloads/text-gen/poems/forms/haiku/HaikuPoemshaikuiNeedToHaikuExplainMyselfPoembychrisbowenakatowit.txt', '/home/salla/Downloads/text-gen/poems/forms/haiku/HaikuPoemsHaikuFirstDayOfSpringPoembyjohntiongchunghoo.txt', '/home/salla/Downloads/text-gen/poems/forms/haiku/HaikuPoemsHaikuMountainsHaikuPoembyJyotiSunitChaudhary.txt', '/home/salla/Downloads/text-gen/poems/forms/haiku/HaikuPoemsHaikuWinterHaikuPoembyPeterSQuinn.txt', '/home/salla/Downloads/text-gen/poems/forms/haiku/HaikuPoemsYesIsItHaikuPoembyHerbertNehrlich.txt', '/home/salla/Downloads/text-gen/poems/forms/haiku/HaikuPoemsHaikuRunningForTheirLivesPoembyjohntiongchunghoo.txt', '/home/salla/Downloads/text-gen/poems/forms/haiku/HaikuPoemsTheRainbowHaikuHaikuHaikuHaikuHaikuHaikuPoembyUdiahwitnesstoYah.txt', '/home/salla/Downloads/text-gen/poems/forms/haiku/HaikuPoemsHaikuUnceasedDaysPoembyjohntiongchunghoo.txt', '/home/salla/Downloads/text-gen/poems/forms/haiku/HaikuPoemsHaiku08PoembyMasaokiShiki.txt', '/home/salla/Downloads/text-gen/poems/forms/haiku/HaikuPoemsHaikuOpportunitiesPoembyjohntiongchunghoo.txt', '/home/salla/Downloads/text-gen/poems/forms/haiku/HaikuPoemsHaiku12PoembyMasaokiShiki.txt', '/home/salla/Downloads/text-gen/poems/forms/haiku/HaikuPoemsSimpleHaikuEarthDayThreeWordsPoembyChuckAudette.txt', '/home/salla/Downloads/text-gen/poems/forms/haiku/HaikuPoemsHaikuFromMomentsOfLightnessHaikuTankaPoembyFabrizioFrosini.txt', '/home/salla/Downloads/text-gen/poems/forms/haiku/HaikuPoemsHaikuToAPoetPoembyMichaelShepherd.txt']\n"
     ]
    }
   ],
   "source": [
    "DIR_PATH = \"/home/salla/Downloads/text-gen/poems\"\n",
    "\n",
    "def traverse_directory(root_dir, folder_name, type):\n",
    "    haiku = []\n",
    "    for dir_name in os.listdir(root_dir):\n",
    "        dir_path = os.path.join(root_dir, dir_name)\n",
    "        if os.path.isdir(dir_path) and dir_name == folder_name:\n",
    "            for sub_dir_name in os.listdir(dir_path):\n",
    "                sub_dir_path = os.path.join(dir_path, sub_dir_name)\n",
    "                if os.path.isdir(sub_dir_path) and sub_dir_name == type:\n",
    "                    for filename in os.listdir(sub_dir_path):\n",
    "                        file_path = os.path.join(sub_dir_path, filename)\n",
    "                        print(\"Processing file:\", file_path)\n",
    "                        haiku.append(file_path)\n",
    "    return haiku\n",
    "\n",
    "haiku = traverse_directory(DIR_PATH, \"forms\", \"haiku\")\n",
    "print(\"Collected haiku files:\", haiku)"
   ]
  },
  {
   "cell_type": "code",
   "execution_count": 13,
   "metadata": {},
   "outputs": [
    {
     "data": {
      "text/plain": [
       "99"
      ]
     },
     "execution_count": 13,
     "metadata": {},
     "output_type": "execute_result"
    }
   ],
   "source": [
    "len(haiku)"
   ]
  },
  {
   "cell_type": "code",
   "execution_count": 17,
   "metadata": {},
   "outputs": [
    {
     "name": "stdout",
     "output_type": "stream",
     "text": [
      "First poem contents:\n",
      " The harvest soon comes\n",
      "A hawk's eye is needed now\n",
      "Two watching a front\n"
     ]
    }
   ],
   "source": [
    "first_poem_path = haiku[0]\n",
    "with open(first_poem_path, 'r') as file:\n",
    "    first_poem = file.read()\n",
    "print(\"First poem contents:\\n\", first_poem)"
   ]
  },
  {
   "cell_type": "code",
   "execution_count": 21,
   "metadata": {},
   "outputs": [],
   "source": [
    "def flatten(A):\n",
    "    rt = []\n",
    "    for i in A:\n",
    "        if isinstance(i, list):\n",
    "            rt.extend(flatten(i))\n",
    "        else:\n",
    "            rt.append(i)\n",
    "    return rt"
   ]
  },
  {
   "cell_type": "code",
   "execution_count": 23,
   "metadata": {},
   "outputs": [
    {
     "name": "stdout",
     "output_type": "stream",
     "text": [
      "Collected haiku poems in NumPy array:\n",
      "[\"The harvest soon comes\\nA hawk's eye is needed now\\nTwo watching a front\"\n",
      " 'animal joy\\nfreedom from\\nall guilts'\n",
      " 'open sesame\\nride her in, bind her up good\\ntake the time of her'\n",
      " \"michael jackson's trial\\nthis time he sings\\nthey are not my lovers\"\n",
      " 'A caterpillar\\nthe child wonders\\nhow it controls its legs'\n",
      " 'Birds singing\\nin the dark\\n—Rainy dawn.'\n",
      " 'breeze\\nthe morning glory touches\\nmy heart'\n",
      " \"sea waves\\npainter's brush\\ndances over the canvas\\nwaves\\nfrom his palette\\nthe beach appears\"\n",
      " \"sea\\nhe disperses waves of blue over\\nhis canvas\\ninspired from these quotes:\\nquopo #1057: Where nature ends\\nGreat art picks up where nature ends.\\n==Marc Chagall\\nThe aim of art is to represent not the outward\\nappearance of things, but their inward significance.\\n==Aristotle\\nArt is a technique of communication. The image is\\nthe most complete technique of all communication.\\n==Claus Oldenburg\\nArt hurts. Art urges voyages—\\nand it is easier to stay at home.\\n==Gwendolyn Brooks\\nWhat was any art but an effort to make a sheath,\\na mould in which to imprison for a moment the shining\\nelusive element which is life itself—life hurrying past\\nus and running away, too strong to stop, too sweet to lose.\\n==Willa Sibert Cather.1915. The Song of the Lark.\\nBelieve those who are seeking the truth. Doubt those who find it.'\\n.....Andre Gide\"\n",
      " 'a drifting kite\\na bubble floats in still lake\\nmirror reflects image'\n",
      " 'To say I love you\\nand to actually mean it\\nare different things'\n",
      " 'a cold autumn rain\\ncaught them unexpectedly\\nnow searching a tree'\n",
      " \"1.\\nmind's edge blunted\\ndesert devoid of markers\\nmy tears wet dry sand\\nJuly 29,2014\\n2.\\nseasonal picture\\ndon't let me add a thing please\\nyour haiku not mine\\nJune 6,2016\\n3.\\nmissing photographs\\nreal content camera shy\\nskit artist needed\\nJune 6,2016\"\n",
      " 'our treetop moments\\nperched on my memory still....\\nbird of unclipped wings'\n",
      " 'scatter layer\\nby layer, eight-layered\\ncherry blossoms!'\n",
      " 'A Modern-Contemporary Haiku\\nw/ syllabic requirement of\\nTraditional Zen style Haiku\\nFast Growing Queries\\nOn Statistical Values\\nOversight or Site?\\nMarketing Dollars\\nCome Tiding in Waves of Green\\nWhen Your Product Rocks!\\nRepresentation\\nThat Catches The Buyers Eye\\nMoves Traffic...Makes Cash.\\nMakes No Business Sense\\nTo Incent From Bottom Up\\nWhen The Up Fuels You.'\n",
      " \"Sometimes is hard to\\nwrite a well versed haiku\\nsometimes it isn't\"\n",
      " 'Mount Fujiyama\\nCherry Trees in Blossom\\nA Couple in Love American Western Haiku On a mountain peak\\nStood a mountain goat king\\nSubjects all below'\n",
      " 'amber\\nleaves trail\\nautumn wind'\n",
      " 'in silence\\nher cry\\nfor love\\nin silence\\nshe cries out\\nfor love'\n",
      " 'ying and yang\\nlove and hate\\nthe world at a loss'\n",
      " 'A piece of green pepper\\nfell\\noff the wooden salad bowl:\\nso what?'\n",
      " 'A smudge of black ink\\nOn a white sheet of paper\\nDifficult to scrub'\n",
      " 'one haiku a day\\npeace of mind'\n",
      " \"In a week or ten days\\nthe snow and ice\\nwill melt from Cemetery Road.\\nI'm coming! Don't move!\\nOnce again it is April.\\nToday is the day\\nwe would have been married\\ntwenty-six years.\\nI finished with April\\nhalfway through March.\\nYou think that their\\ndying is the worst\\nthing that could happen.\\nThen they stay dead.\\nWill Hall ever write\\nlines that do anything\\nbut whine and complain?\\nIn April the blue\\nmountain revises\\nfrom white to green.\\nThe Boston Red Sox win\\na hundred straight games.\\nThe mouse rips\\nthe throat of the lion\\nand the dead return.\"\n",
      " \"illusionary\\ntriskaidekaphobia's\\nunaccountab le\"\n",
      " 'All haiku writers\\nPlease take note and don’t do this:\\nCircumlocution\\n10th May 2009\\nCopyright © SC'\n",
      " \"What a lovely present!\\nI threw last year's away...\"\n",
      " '\"He Spankie my imagination\\nuntil I seen reality.\"\\nLook\\'s attractive a Man!\\nConversation hold a Man!\\nS*X Keep a Man Coming Back!'\n",
      " 'the coconut trees rustle\\nour laughter\\nand the roaring waves'\n",
      " \"Spring:\\nA hill without a name\\nVeiled in morning mist.\\nThe beginning of autumn:\\nSea and emerald paddy\\nBoth the same green.\\nThe winds of autumn\\nBlow: yet still green\\nThe chestnut husks.\\nA flash of lightning:\\nInto the gloom\\nGoes the heron's cry.\\nTranslated by Geoffrey Bownas And Anthony Thwaite\"\n",
      " \"haiku one:\\nin criss-crossing shadows\\nof the mountains, we admire\\nsunbathed summits\\nhaiku two:\\nin criss crossing shadows\\nwe admire sunbathed\\nsummits\\nhaiku three:\\ntottering ballet dancer\\nthe butterfly flutters\\nround a bloom\\nhaiku three:\\ndead widow's bamboo bell\\neach chime echoes\\na memory of her\\ndead widow's bamboo bell\\neach chime numbs\\nthe mind\\ndead widow's bamboo bell\\neach chime echoes\\na lonely year/her lonely years\\nhaiku four;\\ndead widow's bamboo bell\\nforelorn the chime\\nhas become\\ntanka:\\ndugout river\\na nude doll stares\\nright through me\\ni discover stephen king and\\n- shiver\"\n",
      " 'Partake of The Word\\nThe Tree of Life, Jesus Christ\\nAnd live forever\\nGen 3: 22'\n",
      " \"Haiku's simple verse\\nShattering and pointed like\\nGlass shards laced with words.\\nNovember 2006\"\n",
      " 'The low yellow\\nmoon above the\\nQuiet lamplit house.'\n",
      " 'I’m down: <(here’s the news\\nJust cause I’m white… doesn’t mean\\nI can’t get the blues'\n",
      " 'spring rain:\\nbrowsing under an umbrella\\nat the picture-book store'\n",
      " 'fair game\\nnature opens a race\\nfor climbing to the top'\n",
      " 'Calm before a storm,\\nLike all human nature is\\n- Stirring up the grass.'\n",
      " \"For I'm a sad one,\\na lonely, thoughtful figure\\nfor you to treasure.\\nWho be the tyrant\\nignoring all God's wishes,\\nhe will be slaughtered.\\nJohn Tiong Chunghoo is\\nthe omnipotent master\\nof Haiku pleasure.\"\n",
      " 'Waking in the night;\\nthe lamp is low,\\nthe oil freezing.\\nIt has rained enough\\nto turn the stubble on the field\\nblack.\\nWinter rain\\nfalls on the cow-shed;\\na cock crows.\\nThe leeks\\nnewly washed white,-\\nhow cold it is!\\nThe sea darkens;\\nthe voices of the wild ducks\\nare faintly white.\\nIll on a journey;\\nmy dreams wander\\nover a withered moor.'\n",
      " \".\\nchange of season—\\nalso our love is over\\nentering autumn\\n- -\\n[in 'A Season for Everyone - Haiku & Tanka Poetry']\\n[also in the Anthology 'When Love is Bitter']\"\n",
      " 'lone walk home\\nperched on the edge of skyscraper\\nthe full moon'\n",
      " 'entangled with\\nthe scattering cherry blossoms—\\nthe wings of birds!'\n",
      " 'spring\\nbird song sweet\\nas the  flowers\\nbeginning of autumn\\na summer  skin\\ni still carry\\nthe winds of autumn\\nslowly the leaves wave\\nthe season goodbye\\na flash of lightning\\nthe breeze steals\\ninto my soul'\n",
      " \"first day at school\\nthe other children look into me\\nfor sign of similar fear\\ninspired by\\nFirst Day at School\\nA millionbillionwillion miles from home\\nWaiting for the bell to go. (To go where?)\\nWhy are they all so big, other children?\\nSo noisy? So much at home they\\nMust have been born in uniform\\nLived all their lives in playgrounds\\nSpent the years inventing games\\nThat don't let me in. Games\\nThat are rough, that swallow you up.\\nAnd the railings.\\nAll around, the railings.\\nAre they to keep out wolves and monsters?\\nThings that carry off and eat children?\\nThings you don't take sweets from?\\nPerhaps they're to stop us getting out\\nRunning away from the lessins. Lessin.\\nWhat does a lessin look like?\\nSounds small and slimy.\\nThey keep them in the glassrooms.\\nWhole rooms made out of glass. Imagine.\\nI wish I could remember my name\\nMummy said it would come in useful.\\nLike wellies. When there's puddles.\\nYellowwellies. I wish she was here.\\nI think my name is sewn on somewhere\\nPerhaps the teacher will read it for me.\\nTea-cher. The one who makes the tea.\\nRoger McGough #19\"\n",
      " 'Your ever lasting\\nkiss touched my soul long before\\nwe had ever met.'\n",
      " 'zen garden\\ntoad still\\nas the monk'\n",
      " 'A poem read.\\nA reader changed.\\nHow?'\n",
      " 'a picture-less frame\\nspring’s new growth proudly displayed\\nartist malpractice'\n",
      " \"In the coolness\\nof the empty sixth-month sky...\\nthe cuckoo's cry.\"\n",
      " 'The taste\\nof rain\\n—Why kneel?'\n",
      " 'the child talks to it\\nas  the magpie\\nsings on the roof'\n",
      " 'Big waves ten foot plus,\\nFear fills my heart - board too small\\nMaybe tomorrow'\n",
      " \"war memorial\\nreccuring, late dad's words\\nthat war is a shame\\npeace march\\ni wear late dad's peace ring\\nfor the first time\\ninspired by\\nrose garden\\nI’ve forgotten which one\\nis called Peace\"\n",
      " 'Grey clouds,\\nbrown earth,\\na broad white smile'\n",
      " \"at the full moon's\\nrising, the silver-plumed\\nreeds tremble\"\n",
      " 'no more disk space\\ngrandma deletes all'\n",
      " \"sun light filters through\\ncity's high rise building-gloom\\na tear in despair!5 7 5\\n*********************\\nSun light filtering through\\nGloom of high rise city buildings\\nA tear in despair!\"\n",
      " 'fanning out its tail\\nin the spring breeze,\\nsee—a peacock!'\n",
      " \"Imperceptible\\nat first, sunlight changing; then\\ndusky, or faded,\\nfilter on the lens\\nencroaching, sky blue into\\ngrey, then grey-lilac,\\ncolours blur, textures,\\nshadows cast paler, out of\\nfocus, sudden cold\\nstrikes us uneasy,\\nhalf moon sun on leaves jangles\\ncrescent reflections,\\ndragonflies hawk the\\ngloom, birds on their way homewards,\\ngreen murk of low cloud\\nBLINKS OUT: OUR DARK STAR,\\nOBSIDIAN RADIANCE,\\nCUT CARBON DIAMOND\\nand back, like a switch,\\nheavens as dawn six o'clock,\\nluminous, bleary -\\nto morning of mornings\\nand washed-lucid consciousness\\nreborn we awake\"\n",
      " 'The sky is heavy with rain.\\na poem still only half read\\nin the sunshine'\n",
      " \"reaching out\\ni  throw a handful  of sand\\ntowards the stars\\ninspired by\\nRobert Service's\\nA Grain Of Sand\\n------\\nIf starry space no limit knows\\nAnd sun succeeds to sun,\\nThere is no reason to suppose\\nOur earth the only one.\\n'Mid countless constellations cast\\nA million worlds may be,\\nWith each a God to bless or blast\\nAnd steer to destiny.\\nJust think! A million gods or so\\nTo guide each vital stream,\\nWith over all to boss the show\\nA Deity supreme.\\nSuch magnitudes oppress my mind;\\nFrom cosmic space it swings;\\nSo ultimately glad to find\\nRelief in little things.\\nFor look! Within my hollow hand,\\nWhile round the earth careens,\\nI hold a single grain of sand\\nAnd wonder what it means.\\nAh! If I had the eyes to see,\\nAnd brain to understand,\\nI think Life's mystery might be\\nSolved in this grain of sand.\"\n",
      " 'in the coolness\\ngods and Buddhas\\ndwell as neighbors'\n",
      " 'The leaves change colour\\nFall has fallen once again\\nThe colours so bright\\nThey fall to the ground\\nTo make a bed of beauty\\nThey fall with no sound\\nTheir lives are complete\\nOne more journey to their rest\\nNow wait for winter'\n",
      " \"heaty noon\\nthe bottle collector's voice\\nechoes through the lane\"\n",
      " \"The wind\\nUndecided\\nRolls a cigarette of air\\nThe mute girl talks:\\nIt is art's imperfection.\\nThis impenetrable speech.\\nThe motor car is truly launched:\\nFour martyrs' heads\\nRoll under the wheels.\\nAh! a thousand flames, a fire,\\nThe light, a shadow!\\nThe sun is following me.\\nA feather gives to a hat\\nA touch of lightness:\\nThe chimney smokes.\"\n",
      " 'Fields of green waves under\\nThe sky grey, rain on the soft\\nWinds whisper; normality reigns.'\n",
      " \"mist\\ngathering water\\nmy eyelashes\\ninspired by:\\nMist\\nLow-anchored cloud,\\nNewfoundland air,\\nFountain head and source of rivers,\\nDew-cloth, dream drapery,\\nAnd napkin spread by fays;\\nDrifting meadow of the air,\\nWhere bloom the dasied banks and violets,\\nAnd in whose fenny labyrinth\\nThe bittern booms and heron wades;\\nSpirit of the lake and seas and rivers,\\nBear only purfumes and the scent\\nOf healing herbs to just men's fields!\\nHenry David Thoreau\"\n",
      " 'Drinking my tea\\nWithout sugar-\\nNo difference.\\nThe sparrow shits\\nupside down\\n--ah! my brain & eggs\\nMayan head in a\\nPacific driftwood bole\\n--Someday I\\'ll live in N.Y.\\nLooking over my shoulder\\nmy behind was covered\\nwith cherry blossoms.\\nWinter Haiku\\nI didn\\'t know the names\\nof the flowers--now\\nmy garden is gone.\\nI slapped the mosquito\\nand missed.\\nWhat made me do that?\\nReading haiku\\nI am unhappy,\\nlonging for the Nameless.\\nA frog floating\\nin the drugstore jar:\\nsummer rain on grey pavements.\\n(after Shiki)\\nOn the porch\\nin my shorts;\\nauto lights in the rain.\\nAnother year\\nhas past-the world\\nis no different.\\nThe first thing I looked for\\nin my old garden was\\nThe Cherry Tree.\\nMy old desk:\\nthe first thing I looked for\\nin my house.\\nMy early journal:\\nthe first thing I found\\nin my old desk.\\nMy mother\\'s ghost:\\nthe first thing I found\\nin the living room.\\nI quit shaving\\nbut the eyes that glanced at me\\nremained in the mirror.\\nThe madman\\nemerges from the movies:\\nthe street at lunchtime.\\nCities of boys\\nare in their graves,\\nand in this town...\\nLying on my side\\nin the void:\\nthe breath in my nose.\\nOn the fifteenth floor\\nthe dog chews a bone-\\nScreech of taxicabs.\\nA hardon in New York,\\na boy\\nin San Fransisco.\\nThe moon over the roof,\\nworms in the garden.\\nI rent this house.\\n[Haiku composed in the backyard cottage at 1624\\nMilvia Street, Berkeley 1955, while reading R.H.\\nBlyth\\'s 4 volumes, \"Haiku.\"]'\n",
      " \"Has poetryhound\\non the Kahoona Playground\\nbeen finally found?\\nHe who hides his self\\nfrom the rest of the bimbos\\nhe will pay some day.\\nIt's filth that we see\\nwhen we look at these bastards\\nI do have the key.\\nAnd you do not know\\nwhat the world will consider\\nbut I call the shots.\"\n",
      " \"late November\\nneighbour beats us again\\nin dusting the Christmas tree\\ninspired by:\\nlate November...\\nI miss another visit\\nto the nursing home\\nCharles Trumbull\\nslender moon\\nher new gait\\nafter slimming down\\ninspired by;\\nslender moon —\\nlocking the door\\nfor the last time\\nTimothy Hawkes\\nPearl Harbour Day\\na  Sept 11 now to mitigate\\nAmerica's greatest  war foible\\ninspired by\\nPearl Harbor Day\\nthe back yard fence steams\\nin the morning sun\\nLane Parker\\nchristmas\\nthe wish to rewrite\\nthe old songs\\ninspired by\\nevery one\\nof her Xmas cookies\\nthe same snowflake\\nScott Metz\"\n",
      " 'autumn dance\\na leaf drops,   spirals,\\nsommersaults on ground'\n",
      " 'floating leaf\\nan ant runs\\nround and round'\n",
      " 'That time of year\\nthou mayst in me\\nbehold\\nWhen yellow leaves\\nor none, or few\\ndo hang\\nUpon those boughs\\nwhich shake\\nagainst the cold\\nBare ruined choirs\\nwhere late the\\nsweet birds sang\\nIn me thou see’st\\nthe twilight\\nof such day\\nAs after sunset\\nfadeth\\nin the west\\nWhich by and by\\nblack night\\ndoth take away\\nDeath’s second self\\nthat seals up\\nall in rest\\nIn me thou see’st\\nthe glowing of\\nsuch fire\\nThat on the ashes\\nof his youth\\ndoth lie\\nAs the deathbed\\nwhereon\\nit must expire\\nConsumed with that\\nwhich it was\\nnourished by\\nThis thou perceiv’st\\nwhich makes\\nthy love more strong\\nTo love that well\\nwhich thou must\\nleave ere long\\n- William Shakespeare, Sonnet 73'\n",
      " 'Like medieval knights\\nArmor clad, in fields battle\\nTo reap victory\\nhaiku haiku haiku haiku haiku haiku haiku haiku haiku haiku haiku haiku haiku haiku haiku haiku haiku haiku haiku haiku haiku haiku haiku haiku haiku haiku haiku haiku haiku haiku haiku haiku haiku haiku haiku haiku haiku haiku haiku haiku haiku haiku haiku haiku haiku haiku haiku haiku haiku haiku haiku haiku haiku haiku haiku haiku haiku haiku haiku haiku haiku haiku haiku haiku haiku haiku haiku haiku haiku haiku haiku haiku haiku haiku haiku haiku haiku haiku haiku haiku haiku haiku haiku haiku haiku haiku haiku haiku football football football football football football football football football football football football football football football football football football football football football football football football football football football football football football football football football football football football football football football football football football football football football football football football football football football football football football football football football football football football football football football'\n",
      " 'wheat sowing—\\nthe mulberry trees\\nlift bunched branches'\n",
      " \"don't imitate me\\nit's like trying to put an extra inch\\nto a foot\\ndon't imitate me;\\nit's as boring\\nas the two halves of a melon.\"\n",
      " \"five-seven-five,\\nas long as the heart's alive,\\nlovers will revive.\\n(by edgardo s. tugade,24 Aug 08)\"\n",
      " 'You took my breath away.\\nWhat did you do with it?\\nAh yes, I remember.'\n",
      " 'the tree cut,\\ndawn breaks early\\nat my little window'\n",
      " 'rice reaping—\\nno smoke rising from\\nthe cremation ground today'\n",
      " 'In the April wind, white cherry blossom;\\nOn the ground, snowflakes.'\n",
      " \"I'm here\\namongst the huge pile of haiku.\\nCan you see me?\\nI hope you do.\\nI've been buried here\\nand I don't know what to do.\\nEach time I post a poem..\\nit gets buried by haiku! !\"\n",
      " 'The religion game\\nonly one right way; there can\\nbe only the one.\\nFear haunts such small minds\\nseeing through their broken glass,\\nblind leading the blind.\\nNo heaven no hell\\ncan remove love from within;\\nrelax and just BREATHE.\\nThe Spirit indwells\\nbeyond the understanding.\\nA whispering Love\\nwhose strength surrounds us,\\nguides us along each day; just what\\nis it, we should fear?'\n",
      " 'i need to haiku\\nhaiku came to me and said\\nhaiku, chris, haiku'\n",
      " 'first day of spring\\njust another day walking\\nin the cold'\n",
      " 'Heights  of tall  mountains\\nWithin the rifts  and  valleys\\nSeem  to  be  enhanced'\n",
      " 'Reflecting mirror,\\nfrozen pond in bare garden\\n- I am day older...'\n",
      " 'So, what is envy?\\nIs it the child of hatred,\\nor simply nothing?\\n.'\n",
      " 'sunlight on\\nrotting chestnut\\nlittle insects run  separate ways\\ninspired by:\\nlightning\\nin a chestnut shell\\nthe evening rain'\n",
      " \"after summer's rain\\nGod's promise is remembered\\nglorious rainbow\\n(Gen 9: 8-17)\\n< br>\\n© 2011\\nhaiku haiku haiku haiku haiku haiku haiku haiku haiku haiku haiku haiku haiku haiku haiku haiku haiku haiku haiku haiku haiku haiku haiku haiku haiku haiku haiku haiku haiku haiku haiku haiku haiku haiku haiku haiku haiku haiku haiku haiku haiku haiku haiku haiku haiku haiku haiku haiku God God God God God God God God God God God God God rainbow rainbow rainbow rainbow rainbow rainbow rainbow rainbow rainbow rainbow rainbow rainbow rainbow rainbow rainbow rainbow rainbow rainbow rainbow rainbow rainbow rainbow rainbow rainbow\"\n",
      " \"pretty woman\\nwrinkled woman show girls picture\\nof her uncreased days\\ninspired by\\nPhenomenal Woman\\nPretty women wonder where my secret lies.\\nI'm not cute or built to suit a fashion model's size\\nBut when I start to tell them,\\nThey think I'm telling lies.\\nI say,\\nIt's in the reach of my arms\\nThe span of my hips,\\nThe stride of my step,\\nThe curl of my lips.\\nI'm a woman\\nPhenomenally.\\nPhenomenal woman,\\nThat's me.\\nI walk into a room\\nJust as cool as you please,\\nAnd to a man,\\nThe fellows stand or\\nFall down on their knees.\\nThen they swarm around me,\\nA hive of honey bees.\\nI say,\\nIt's the fire in my eyes,\\nAnd the flash of my teeth,\\nThe swing in my waist,\\nAnd the joy in my feet.\\nI'm a woman\\nPhenomenally.\\nPhenomenal woman,\\nThat's me.\\nMen themselves have wondered\\nWhat they see in me.\\nThey try so much\\nBut they can't touch\\nMy inner mystery.\\nWhen I try to show them\\nThey say they still can't see.\\nI say,\\nIt's in the arch of my back,\\nThe sun of my smile,\\nThe ride of my breasts,\\nThe grace of my style.\\nI'm a woman\\nPhenomenally.\\nPhenomenal woman,\\nThat's me.\\nNow you understand\\nJust why my head's not bowed.\\nI don't shout or jump about\\nOr have to talk real loud.\\nWhen you see me passing\\nIt ought to make you proud.\\nI say,\\nIt's in the click of my heels,\\nThe bend of my hair,\\nthe palm of my hand,\\nThe need of my care,\\n'Cause I'm a woman\\nPhenomenally.\\nPhenomenal woman,\\nThat's me.\\nMaya Angelou\"\n",
      " 'I turn my back\\non Buddha and face\\nthe cool moon'\n",
      " 'opportunities\\nfirst light brightens\\nthings up'\n",
      " 'old garden—she empties\\na hot-water bottle\\nunder the moon'\n",
      " \"environmental\\nunaccountability's\\nreprehensi ble\"\n",
      " '.\\nthe passing of time —\\nnew idle thoughts following\\npast idle thoughts\\n-\\nFabrizio Frosini, In «Moments of Lightness - Haiku & Tanka» - English Edition (Amazon,2017)\\n.'\n",
      " 'The sound of words\\nSilence\\nTwo friends']\n"
     ]
    }
   ],
   "source": [
    "# Read all haiku poems and store them in a list\n",
    "haiku_poems = [open(poem_path, 'r').read() for poem_path in haiku]\n",
    "\n",
    "# Assuming haiku_poems may have a nested structure, we flatten it\n",
    "flattened_haiku_poems = flatten(haiku_poems)\n",
    "\n",
    "# Convert the flattened list of haiku poems to a NumPy array\n",
    "haiku_array = np.array(flattened_haiku_poems)\n",
    "\n",
    "print(\"Collected haiku poems in NumPy array:\")\n",
    "print(haiku_array)"
   ]
  },
  {
   "cell_type": "code",
   "execution_count": 31,
   "metadata": {},
   "outputs": [
    {
     "name": "stdout",
     "output_type": "stream",
     "text": [
      "First haiku:\n",
      "The harvest soon comes\n",
      "A hawk's eye is needed now\n",
      "Two watching a front\n",
      "Encoded first haiku:\n",
      "tensor([  464, 13222,  2582,  2058,   198,    32, 48710,   338,  4151,   318,\n",
      "         2622,   783,   198,  7571,  4964,   257,  2166])\n",
      "Decoded first haiku:\n",
      "The harvest soon comes\n",
      "A hawk's eye is needed now\n",
      "Two watching a front\n"
     ]
    }
   ],
   "source": [
    "class TransformerTokenizer(Transform):\n",
    "    def __init__(self, tokenizer):\n",
    "        self.tokenizer = tokenizer\n",
    "        \n",
    "    def encodes(self, x): \n",
    "        toks = self.tokenizer.tokenize(x)\n",
    "        return torch.tensor(self.tokenizer.convert_tokens_to_ids(toks))\n",
    "    \n",
    "    def decodes(self, x):\n",
    "        return TitledStr(self.tokenizer.decode(x.cpu().numpy()))\n",
    "\n",
    "# Create an instance of the TransformerTokenizer\n",
    "transformer_tokenizer = TransformerTokenizer(tokenizer)\n",
    "\n",
    "# Example of encoding and decoding the first haiku\n",
    "first_haiku = haiku_array[0]\n",
    "encoded_first_haiku = transformer_tokenizer.encodes(first_haiku)\n",
    "decoded_first_haiku = transformer_tokenizer.decodes(encoded_first_haiku)\n",
    "\n",
    "print(\"First haiku:\")\n",
    "print(first_haiku)\n",
    "print(\"Encoded first haiku:\")\n",
    "print(encoded_first_haiku)\n",
    "print(\"Decoded first haiku:\")\n",
    "print(decoded_first_haiku)\n"
   ]
  },
  {
   "cell_type": "code",
   "execution_count": 45,
   "metadata": {},
   "outputs": [],
   "source": [
    "splits = [range_of(69), range(69, 99)]  # 70/30 split\n",
    "\n",
    "tls = TfmdLists(haiku_array, TransformerTokenizer(tokenizer), splits=splits, dl_type=LMDataLoader)"
   ]
  },
  {
   "cell_type": "code",
   "execution_count": 46,
   "metadata": {},
   "outputs": [
    {
     "name": "stdout",
     "output_type": "stream",
     "text": [
      "The harvest soon comes\n",
      "A hawk's eye is needed now\n",
      "Two watching a front\n"
     ]
    }
   ],
   "source": [
    "show_at(tls.train, 0)"
   ]
  },
  {
   "cell_type": "code",
   "execution_count": 47,
   "metadata": {},
   "outputs": [],
   "source": [
    "bs,sl = 4,256\n",
    "dls = tls.dataloaders(bs=bs, seq_len=sl)"
   ]
  },
  {
   "cell_type": "code",
   "execution_count": 49,
   "metadata": {},
   "outputs": [
    {
     "data": {
      "text/html": [
       "<table border=\"1\" class=\"dataframe\">\n",
       "  <thead>\n",
       "    <tr style=\"text-align: right;\">\n",
       "      <th></th>\n",
       "      <th>text</th>\n",
       "      <th>text_</th>\n",
       "    </tr>\n",
       "  </thead>\n",
       "  <tbody>\n",
       "    <tr>\n",
       "      <th>0</th>\n",
       "      <td>a cold autumn rain\\ncaught them unexpectedly\\nnow searching a tree1.\\nmind's edge blunted\\ndesert devoid of markers\\nmy tears wet dry sand\\nJuly 29,2014\\n2.\\nseasonal picture\\ndon't let me add a thing please\\nyour haiku not mine\\nJune 6,2016\\n3.\\nmissing photographs\\nreal content camera shy\\nskit artist needed\\nJune 6,2016Mount Fujiyama\\nCherry Trees in Blossom\\nA Couple in Love American Western Haiku On a mountain peak\\nStood a mountain goat king\\nSubjects all belowmist\\ngathering water\\nmy eyelashes\\ninspired by:\\nMist\\nLow-anchored cloud,\\nNewfoundland air,\\nFountain head and source of rivers,\\nDew-cloth, dream drapery,\\nAnd napkin spread by fays;\\nDrifting meadow of the air,\\nWhere bloom the dasied banks and violets,\\nAnd in whose fenny labyrinth\\nThe bittern booms and heron wades;\\nSpirit of the lake and seas and rivers,\\nBear only purfumes and the scent\\nOf healing herbs to just men's fields!\\nHenry David Thoreau</td>\n",
       "      <td>cold autumn rain\\ncaught them unexpectedly\\nnow searching a tree1.\\nmind's edge blunted\\ndesert devoid of markers\\nmy tears wet dry sand\\nJuly 29,2014\\n2.\\nseasonal picture\\ndon't let me add a thing please\\nyour haiku not mine\\nJune 6,2016\\n3.\\nmissing photographs\\nreal content camera shy\\nskit artist needed\\nJune 6,2016Mount Fujiyama\\nCherry Trees in Blossom\\nA Couple in Love American Western Haiku On a mountain peak\\nStood a mountain goat king\\nSubjects all belowmist\\ngathering water\\nmy eyelashes\\ninspired by:\\nMist\\nLow-anchored cloud,\\nNewfoundland air,\\nFountain head and source of rivers,\\nDew-cloth, dream drapery,\\nAnd napkin spread by fays;\\nDrifting meadow of the air,\\nWhere bloom the dasied banks and violets,\\nAnd in whose fenny labyrinth\\nThe bittern booms and heron wades;\\nSpirit of the lake and seas and rivers,\\nBear only purfumes and the scent\\nOf healing herbs to just men's fields!\\nHenry David Thoreausun</td>\n",
       "    </tr>\n",
       "    <tr>\n",
       "      <th>1</th>\n",
       "      <td>'s peace ring\\nfor the first time\\ninspired by\\nrose garden\\nI’ve forgotten which one\\nis called Peaceour treetop moments\\nperched on my memory still....\\nbird of unclipped wingsat the full moon's\\nrising, the silver-plumed\\nreeds trembleBirds singing\\nin the dark\\n—Rainy dawn.All haiku writers\\nPlease take note and don’t do this:\\nCircumlocution\\n10th May 2009\\nCopyright © SCspring rain:\\nbrowsing under an umbrella\\nat the picture-book storescatter layer\\nby layer, eight-layered\\ncherry blossoms!in silence\\nher cry\\nfor love\\nin silence\\nshe cries out\\nfor lovebreeze\\nthe morning glory touches\\nmy heartYour ever lasting\\nkiss touched my soul long before\\nwe had ever met.Imperceptible\\nat first, sunlight changing; then\\ndusky, or faded,\\nfilter on the lens\\nencroaching, sky blue into\\ngrey, then grey-lilac,\\ncolours blur, textures,\\nshadows cast paler, out of\\nfocus, sudden cold\\nstrikes us uneasy,\\n</td>\n",
       "      <td>peace ring\\nfor the first time\\ninspired by\\nrose garden\\nI’ve forgotten which one\\nis called Peaceour treetop moments\\nperched on my memory still....\\nbird of unclipped wingsat the full moon's\\nrising, the silver-plumed\\nreeds trembleBirds singing\\nin the dark\\n—Rainy dawn.All haiku writers\\nPlease take note and don’t do this:\\nCircumlocution\\n10th May 2009\\nCopyright © SCspring rain:\\nbrowsing under an umbrella\\nat the picture-book storescatter layer\\nby layer, eight-layered\\ncherry blossoms!in silence\\nher cry\\nfor love\\nin silence\\nshe cries out\\nfor lovebreeze\\nthe morning glory touches\\nmy heartYour ever lasting\\nkiss touched my soul long before\\nwe had ever met.Imperceptible\\nat first, sunlight changing; then\\ndusky, or faded,\\nfilter on the lens\\nencroaching, sky blue into\\ngrey, then grey-lilac,\\ncolours blur, textures,\\nshadows cast paler, out of\\nfocus, sudden cold\\nstrikes us uneasy,\\nhalf</td>\n",
       "    </tr>\n",
       "  </tbody>\n",
       "</table>"
      ],
      "text/plain": [
       "<IPython.core.display.HTML object>"
      ]
     },
     "metadata": {},
     "output_type": "display_data"
    }
   ],
   "source": [
    "dls.show_batch(max_n=2)"
   ]
  },
  {
   "cell_type": "markdown",
   "metadata": {},
   "source": [
    "## Fine Tuning"
   ]
  },
  {
   "cell_type": "code",
   "execution_count": 50,
   "metadata": {},
   "outputs": [],
   "source": [
    "class DropOutput(Callback):\n",
    "    def after_pred(self):\n",
    "        self.learn.pred = self.pred[0]"
   ]
  },
  {
   "cell_type": "code",
   "execution_count": 51,
   "metadata": {},
   "outputs": [],
   "source": [
    "learn = Learner(dls, model, loss_func=CrossEntropyLossFlat(), cbs=[DropOutput], metrics=Perplexity()).to_fp16()"
   ]
  },
  {
   "cell_type": "code",
   "execution_count": 52,
   "metadata": {},
   "outputs": [
    {
     "name": "stdout",
     "output_type": "stream",
     "text": [
      " |----------------------------------------| 0.00% [0/3 00:00<?]\r"
     ]
    },
    {
     "name": "stderr",
     "output_type": "stream",
     "text": [
      "/home/salla/Downloads/text-gen/.venv/lib/python3.11/site-packages/torch/amp/autocast_mode.py:250: UserWarning: User provided device_type of 'cuda', but CUDA is not available. Disabling\n",
      "  warnings.warn(\n",
      "/home/salla/Downloads/text-gen/.venv/lib/python3.11/site-packages/torch/amp/grad_scaler.py:131: UserWarning: torch.cuda.amp.GradScaler is enabled, but CUDA is not available.  Disabling.\n",
      "  warnings.warn(\n"
     ]
    },
    {
     "name": "stdout",
     "output_type": "stream",
     "text": [
      "                                                                     \r"
     ]
    },
    {
     "data": {
      "text/plain": [
       "(#2) [3.555706739425659,35.01255416870117]"
      ]
     },
     "execution_count": 52,
     "metadata": {},
     "output_type": "execute_result"
    }
   ],
   "source": [
    "learn.validate()"
   ]
  },
  {
   "cell_type": "code",
   "execution_count": 53,
   "metadata": {},
   "outputs": [
    {
     "name": "stdout",
     "output_type": "stream",
     "text": [
      "Epoch 27/34 :                                                                             \r"
     ]
    },
    {
     "data": {
      "text/plain": [
       "SuggestedLRs(valley=0.00019054606673307717)"
      ]
     },
     "execution_count": 53,
     "metadata": {},
     "output_type": "execute_result"
    },
    {
     "data": {
      "image/png": "[encoded data removed]",
      "text/plain": [
       "<Figure size 640x480 with 1 Axes>"
      ]
     },
     "metadata": {},
     "output_type": "display_data"
    }
   ],
   "source": [
    "learn.lr_find()"
   ]
  },
  {
   "cell_type": "code",
   "execution_count": 54,
   "metadata": {},
   "outputs": [
    {
     "name": "stdout",
     "output_type": "stream",
     "text": [
      "epoch     train_loss  valid_loss  perplexity  time    \n",
      "0         5.152991    3.482473    32.540085   00:19                                    \n"
     ]
    }
   ],
   "source": [
    "learn.fit_one_cycle(1, 1e-4)"
   ]
  },
  {
   "cell_type": "markdown",
   "metadata": {},
   "source": [
    "## Example"
   ]
  },
  {
   "cell_type": "code",
   "execution_count": 56,
   "metadata": {},
   "outputs": [
    {
     "data": {
      "text/plain": [
       "torch.Size([1, 3])"
      ]
     },
     "execution_count": 56,
     "metadata": {},
     "output_type": "execute_result"
    }
   ],
   "source": [
    "prompt = 'love is ridiculous' # create an initial text prompt to start your generated text\n",
    "prompt_ids = tokenizer.encode(prompt)\n",
    "inp = tensor(prompt_ids)[None].cpu()\n",
    "inp.shape"
   ]
  },
  {
   "cell_type": "code",
   "execution_count": 57,
   "metadata": {},
   "outputs": [
    {
     "name": "stderr",
     "output_type": "stream",
     "text": [
      "The attention mask and the pad token id were not set. As a consequence, you may observe unexpected behavior. Please pass your input's `attention_mask` to obtain reliable results.\n",
      "Setting `pad_token_id` to `eos_token_id`:50256 for open-end generation.\n"
     ]
    },
    {
     "name": "stdout",
     "output_type": "stream",
     "text": [
      "Output:\n",
      "----------------------------------------------------------------------------------------------------\n",
      "love is ridiculous.\"\n",
      "\n",
      "\"I don't know what you're talking about,\" she said. \"I mean, it's not like I've ever seen anything like that before. It's like, 'Oh, you know, I'm going to have to do something about it.' \"\n",
      "\n"
     ]
    }
   ],
   "source": [
    "preds = learn.model.generate(inp, max_length=60, num_beams=5, no_repeat_ngram_size=2, early_stopping=True)\n",
    "print(\"Output:\\n\" + 100 * '-')\n",
    "print(tokenizer.decode(preds[0].cpu().numpy(), skip_special_tokens=True))"
   ]
  },
  {
   "cell_type": "code",
   "execution_count": 60,
   "metadata": {},
   "outputs": [
    {
     "name": "stderr",
     "output_type": "stream",
     "text": [
      "The attention mask and the pad token id were not set. As a consequence, you may observe unexpected behavior. Please pass your input's `attention_mask` to obtain reliable results.\n",
      "Setting `pad_token_id` to `eos_token_id`:50256 for open-end generation.\n"
     ]
    },
    {
     "name": "stdout",
     "output_type": "stream",
     "text": [
      "Output:\n",
      "----------------------------------------------------------------------------------------------------\n",
      "Tejesh.\n",
      "\n",
      "\"I'm not going to tell you what to do,\" he said. \"I don't want to hurt you. I want you to know that I'm here to help you, and I will do everything in my power to make sure that you're safe.\"\n"
     ]
    }
   ],
   "source": [
    "prompt = \"Tejesh\"\n",
    "prompt_ids = tokenizer.encode(prompt)\n",
    "inp = tensor(prompt_ids)[None].cpu()\n",
    "preds = learn.model.generate(inp, max_length=60, num_beams=5, no_repeat_ngram_size=2, early_stopping=True)\n",
    "print(\"Output:\\n\" + 100 * '-')\n",
    "print(tokenizer.decode(preds[0].cpu().numpy(), skip_special_tokens=True))"
   ]
  },
  {
   "cell_type": "code",
   "execution_count": null,
   "metadata": {},
   "outputs": [],
   "source": []
  }
 ],
 "metadata": {
  "kernelspec": {
   "display_name": ".venv",
   "language": "python",
   "name": "python3"
  },
  "language_info": {
   "codemirror_mode": {
    "name": "ipython",
    "version": 3
   },
   "file_extension": ".py",
   "mimetype": "text/x-python",
   "name": "python",
   "nbconvert_exporter": "python",
   "pygments_lexer": "ipython3",
   "version": "3.11.8"
  }
 },
 "nbformat": 4,
 "nbformat_minor": 2
}
